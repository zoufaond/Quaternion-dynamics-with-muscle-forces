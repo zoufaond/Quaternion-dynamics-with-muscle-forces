{
 "cells": [
  {
   "cell_type": "code",
   "execution_count": 1,
   "id": "c571ca41-3fe0-4166-8efd-1164c4fdfcec",
   "metadata": {
    "tags": []
   },
   "outputs": [],
   "source": [
    "from opty import Problem, create_objective_function, parse_free\n",
    "import sympy as sp\n",
    "import sympy.physics.mechanics as me\n",
    "import numpy as np\n",
    "import time as ts\n",
    "import matplotlib.pyplot as plt\n",
    "import sys\n",
    "sys.path.insert(0, \"..\")\n",
    "from importlib import reload"
   ]
  },
  {
   "cell_type": "code",
   "execution_count": 2,
   "id": "e864c00a-e699-4d26-9102-8f5991dedc11",
   "metadata": {
    "tags": []
   },
   "outputs": [],
   "source": [
    "### Equation of motion for 3D double pendulum ###\n",
    "\n",
    "import sympy.physics.mechanics as me\n",
    "import sympy as sp\n",
    "\n",
    "t = sp.symbols('t')\n",
    "q = me.dynamicsymbols('q0A, q1A, q2A, q3A, q0B, q1B, q2B, q3B')  # quaternion\n",
    "u = me.dynamicsymbols('u1A, u2A, u3A, u1B, u2B, u3B')  # angular velocities\n",
    "# l, m, g, Ixx, Iyy, Izz = sp.symbols('l m g Ixx Iyy Izz')  # \n",
    "l = 5\n",
    "m = 10\n",
    "g = 9.81\n",
    "Ixx = 10\n",
    "Iyy = 1\n",
    "Izz = 5\n",
    "F = me.dynamicsymbols('F1:7')\n",
    "\n",
    "N = me.ReferenceFrame('frame_ground')\n",
    "N0 = me.Point('point_ground')\n",
    "N0.set_vel(N,0)\n",
    "\n",
    "A = me.ReferenceFrame('A')\n",
    "B = me.ReferenceFrame('B')\n",
    "mA = me.Point('mA')\n",
    "mB = me.Point('mB')\n",
    "ABj = me.Point('ABj')\n",
    "\n",
    "# rotate joint by quaternion and apply angular velocities\n",
    "# first joint is in the world frame center\n",
    "A.orient(N, 'Quaternion', [q[0], q[1], q[2], q[3]])\n",
    "A.set_ang_vel(N, u[0]*A.x + u[1]*A.y + u[2]*A.z)\n",
    "\n",
    "# set masscenter of the first body\n",
    "mA.set_pos(N0, -l/2 * A.z)\n",
    "mA.v2pt_theory(N0,N,A)\n",
    "FG1 = [(mA, -m * g * N.z)]\n",
    "\n",
    "# set the position of the joint between the two bodies\n",
    "ABj.set_pos(N0, -l * A.z)\n",
    "ABj.v2pt_theory(N0,N,A)\n",
    "\n",
    "# orient second body from the first body\n",
    "B.orient(A, 'Quaternion', [q[4], q[5], q[6], q[7]])\n",
    "B.set_ang_vel(A, u[3]*B.x + u[4]*B.y + u[5]*B.z)\n",
    "mB.set_pos(ABj, -l/2 * B.z)\n",
    "mB.v2pt_theory(ABj,N,B)\n",
    "I1 = me.inertia(A, Ixx, Iyy, Izz)\n",
    "I2 = me.inertia(B, Ixx, Iyy, Izz)\n",
    "\n",
    "BODY = []\n",
    "BODY.append(me.RigidBody('Abody', mA, A, m, (I1, mA)))\n",
    "BODY.append(me.RigidBody('Bbody', mB, B, m, (I2, mB)))\n",
    "\n",
    "FG2 = [(mB, -m * g * N.z)]\n",
    "Torque1 = [(A, 200*(F[0]*A.x+F[1]*A.y+F[2]*A.z))]\n",
    "Torque2 = [(B, 200*(F[3]*B.x+F[4]*B.y+F[5]*B.z))]\n",
    "kindeq = []\n",
    "\n",
    "# set kinematic differential equations - see Quaternions and Dynamics, page 9, equation 18\n",
    "for i in range(2):\n",
    "    kindeq.append(q[0+i*4].diff(t) - 0.5 * (-u[0+i*3]*q[1+i*4] - u[1+i*3]*q[2+i*4] - u[2+i*3]*q[3+i*4]))\n",
    "    kindeq.append(q[1+i*4].diff(t) - 0.5 * (u[0+i*3]*q[0+i*4] + u[2+i*3]*q[2+i*4] - u[1+i*3]*q[3+i*4]))\n",
    "    kindeq.append(q[2+i*4].diff(t) - 0.5 * (u[1+i*3]*q[0+i*4] - u[2+i*3]*q[1+i*4] + u[0+i*3]*q[3+i*4]))\n",
    "    kindeq.append(q[3+i*4].diff(t) - 0.5 * (u[2+i*3]*q[0+i*4] + u[1+i*3]*q[1+i*4] - u[0+i*3]*q[2+i*4]))\n",
    "\n",
    "eoms_cnst = sp.Matrix([[q[0]**2 + q[1]**2 + q[2]**2 + q[3]**2 - 1], \n",
    "                       [q[4]**2 + q[5]**2 + q[6]**2 + q[7]**2 - 1]])\n",
    "KM = me.KanesMethod(N, q_ind=q, u_ind=u, kd_eqs=kindeq)\n",
    "(fr, frstar) = KM.kanes_equations(BODY, (FG1+FG2+Torque1+Torque2))"
   ]
  },
  {
   "cell_type": "code",
   "execution_count": 3,
   "id": "85995032-4884-4779-9a1a-1a69d8afc954",
   "metadata": {
    "tags": []
   },
   "outputs": [
    {
     "data": {
      "text/plain": [
       "(6, 1)"
      ]
     },
     "execution_count": 3,
     "metadata": {},
     "output_type": "execute_result"
    }
   ],
   "source": [
    "sp.shape(frstar)"
   ]
  },
  {
   "cell_type": "code",
   "execution_count": 4,
   "id": "72a2f3ee-5dbe-44c8-afa7-843253091652",
   "metadata": {
    "tags": []
   },
   "outputs": [],
   "source": [
    "eoms = sp.Matrix(kindeq).col_join(fr+frstar)"
   ]
  },
  {
   "cell_type": "code",
   "execution_count": 5,
   "id": "b57c0180-898d-4035-a29a-a25d5b39ef93",
   "metadata": {
    "tags": []
   },
   "outputs": [],
   "source": [
    "# duration = 2 # seconds\n",
    "# num_nodes = 21\n",
    "# interval_value = duration/(num_nodes - 1)\n",
    "# time = np.linspace(0.0, duration, num=num_nodes)\n",
    "\n",
    "state_symbols = tuple(q+u)\n",
    "num_states = len(state_symbols)\n",
    "specified_symbols = tuple(F)\n",
    "num_inputs = len(specified_symbols)\n",
    "t = me.dynamicsymbols._t"
   ]
  },
  {
   "cell_type": "code",
   "execution_count": 6,
   "id": "89407d2a-6af5-4688-9d69-251573efd4fc",
   "metadata": {
    "tags": []
   },
   "outputs": [],
   "source": [
    "# obj_func = sp.Integral(sum(sp.Matrix(F).applyfunc(lambda e: e**2)),t)\n",
    "# obj, obj_grad = create_objective_function(obj_func,\n",
    "#                                           state_symbols,\n",
    "#                                           specified_symbols,\n",
    "#                                           tuple(),\n",
    "#                                           num_nodes,\n",
    "#                                           interval_value)\n",
    "# obj_func"
   ]
  },
  {
   "cell_type": "code",
   "execution_count": 7,
   "id": "6069154f",
   "metadata": {},
   "outputs": [
    {
     "name": "stdout",
     "output_type": "stream",
     "text": [
      "808\n",
      "404\n"
     ]
    }
   ],
   "source": [
    "import opty_lib as op\n",
    "import optyEngine as oe\n",
    "reload (oe);\n",
    "reload (op);\n",
    "duration = 1.5\n",
    "num_nodes = 101\n",
    "interval_value = duration/(num_nodes - 1)\n",
    "time = np.linspace(0.0, duration, num=num_nodes)\n",
    "eul_traj,deul_traj = oe.create_trajectory(num_nodes,duration,interval_value)\n",
    "quat_traj,quat_traj_guess,_,_ = oe.eul2quat_traj(num_nodes,eul_traj,interval_value)\n",
    "\n",
    "quat_traj_glob = quat_traj[:quat_traj.size//2]\n",
    "numcoords = str(num_nodes+1)\n",
    "q0A = sp.symbols('q0A1:'+numcoords)\n",
    "q1A = sp.symbols('q1A1:'+numcoords)\n",
    "q2A = sp.symbols('q2A1:'+numcoords)\n",
    "q3A = sp.symbols('q3A1:'+numcoords)\n",
    "q0B = sp.symbols('q0B1:'+numcoords)\n",
    "q1B = sp.symbols('q1B1:'+numcoords)\n",
    "q2B = sp.symbols('q2B1:'+numcoords)\n",
    "q3B = sp.symbols('q3B1:'+numcoords)\n",
    "\n",
    "sym_vec = sp.Matrix(q0A+q1A+q2A+q3A+q0B+q1B+q2B+q3B)\n",
    "print(len(sym_vec))\n",
    "print(len(quat_traj_glob))\n",
    "\n",
    "# objective_np, objective_jac_np = op.min_rotglob(sym_vec, quat_traj_glob, num_nodes, interval_value)"
   ]
  },
  {
   "cell_type": "code",
   "execution_count": 8,
   "id": "8ab0a228-6907-4d3b-b196-07103da8e9e9",
   "metadata": {
    "tags": []
   },
   "outputs": [],
   "source": [
    "import optyEngine as oe\n",
    "reload (oe);\n",
    "eul_traj,deul_traj = oe.create_trajectory(num_nodes,duration,interval_value)\n",
    "quat_traj,quat_traj_guess,_,_ = oe.eul2quat_traj(num_nodes,eul_traj,interval_value)\n",
    "\n",
    "def obj(free):\n",
    "    min_traj = interval_value * np.sum((quat_traj_guess[:4*2*num_nodes] - free[:4*2*num_nodes])**2)\n",
    "    # min_traj = objective_np(*free[:4*2*num_nodes])\n",
    "    # min_vel = 0.005*interval_value * np.sum((quat_traj_guess[4*2*num_nodes:7*2*num_nodes] - free[4*2*num_nodes:7*2*num_nodes])**2)\n",
    "    min_torque = 0.001 * interval_value * np.sum(free[num_states*num_nodes:(num_states + num_inputs)*num_nodes]**2)\n",
    "    return min_traj + min_torque\n",
    "\n",
    "def obj_grad(free):\n",
    "    grad = np.zeros_like(free)\n",
    "    grad[:4*2*num_nodes] = 2.0 * interval_value * (free[:4*2*num_nodes] - quat_traj_guess[:4*2*num_nodes])\n",
    "    # grad[:4*2*num_nodes] = objective_jac_np(*free[:4*2*num_nodes])[0,:]\n",
    "    # grad[4*2*num_nodes:7*2*num_nodes] = 0.005 * 2.0 * interval_value * (free[4*2*num_nodes:7*2*num_nodes] - quat_traj_guess[4*2*num_nodes:7*2*num_nodes])\n",
    "    grad[num_states*num_nodes:(num_states + num_inputs)*num_nodes] = 0.001 * 2.0 * interval_value * free[num_states*num_nodes:(num_states + num_inputs)*num_nodes]\n",
    "    return grad"
   ]
  },
  {
   "cell_type": "code",
   "execution_count": null,
   "id": "312b2b26",
   "metadata": {},
   "outputs": [],
   "source": []
  },
  {
   "cell_type": "code",
   "execution_count": 9,
   "id": "6e233665-b093-4813-8edf-13efe740d02c",
   "metadata": {
    "tags": []
   },
   "outputs": [],
   "source": [
    "instance_constraints = [\n",
    "    q[0].func(0.0) - 1,\n",
    "    q[1].func(0.0) - 0,\n",
    "    q[2].func(0.0) - 0,\n",
    "    q[3].func(0.0) - 0,\n",
    "    q[4].func(0.0) - 1,\n",
    "    q[5].func(0.0) - 0,\n",
    "    q[6].func(0.0) - 0,\n",
    "    q[7].func(0.0) - 0,\n",
    "    u[0].func(0.0) - 0,\n",
    "    u[1].func(0.0) - 0,\n",
    "    u[2].func(0.0) - 0,\n",
    "    u[3].func(0.0) - 0,\n",
    "    u[4].func(0.0) - 0,\n",
    "    u[5].func(0.0) - 0,\n",
    "]\n",
    "\n",
    "for i in time:\n",
    "    normQ1 = q[0].func(i)**2+q[1].func(i)**2+q[2].func(i)**2+q[3].func(i)**2-1\n",
    "    normQ2 = q[4].func(i)**2+q[5].func(i)**2+q[6].func(i)**2+q[7].func(i)**2-1\n",
    "    instance_constraints.append(normQ1)\n",
    "    instance_constraints.append(normQ2)\n",
    "instance_constraints = tuple(instance_constraints)\n",
    "\n",
    "max_force = 50000.0\n",
    "bounds = {\n",
    "    F[0]: (-max_force, max_force),\n",
    "    F[1]: (-max_force, max_force),\n",
    "    F[2]: (-max_force, max_force),\n",
    "    F[3]: (-max_force, max_force),\n",
    "    F[4]: (-max_force, max_force),\n",
    "    F[5]: (-max_force, max_force),\n",
    "}"
   ]
  },
  {
   "cell_type": "code",
   "execution_count": null,
   "id": "436790bb-3447-4a30-a93f-8b131cd76dde",
   "metadata": {
    "tags": []
   },
   "outputs": [],
   "source": [
    "start = ts.time()\n",
    "\n",
    "prob = Problem(obj, obj_grad, eoms, state_symbols,\n",
    "               num_nodes, interval_value,\n",
    "               known_parameter_map={},\n",
    "               instance_constraints=instance_constraints,\n",
    "               bounds={},\n",
    "               integration_method='midpoint') # \n",
    "\n",
    "prob.add_option('nlp_scaling_method', 'gradient-based')\n",
    "\n",
    "time_to_create = ts.time() - start\n",
    "print(time_to_create)"
   ]
  },
  {
   "cell_type": "code",
   "execution_count": null,
   "id": "327523c8-9f3b-485b-8005-7048e95a3120",
   "metadata": {
    "tags": []
   },
   "outputs": [],
   "source": [
    "# initial_guess = np.zeros(prob.num_free)\n",
    "initial_guess = np.random.randn(prob.num_free)*0\n",
    "initial_guess[:7*2*num_nodes] = quat_traj_guess\n",
    "prob.add_option('max_iter',10000)\n",
    "# prob.add_option('acceptable_tol', 1e-12)\n",
    "# prob.add_option('tol', 1e-12)"
   ]
  },
  {
   "cell_type": "code",
   "execution_count": null,
   "id": "96187aca-da50-47a7-8da6-c46bd97ec33e",
   "metadata": {
    "tags": []
   },
   "outputs": [],
   "source": [
    "start = ts.time()\n",
    "\n",
    "solution, info = prob.solve(initial_guess)\n",
    "\n",
    "time_to_create = ts.time() - start\n",
    "print(time_to_create)\n",
    "\n",
    "print(info['status_msg'])\n",
    "print(info['obj_val'])"
   ]
  },
  {
   "cell_type": "code",
   "execution_count": null,
   "id": "fbaaf163",
   "metadata": {},
   "outputs": [],
   "source": [
    "import opty_lib as op\n",
    "import optyEngine as oe\n",
    "reload (oe);\n",
    "reload (op);\n",
    "\n",
    "op.plot_results(solution, quat_traj_glob, time, num_nodes)"
   ]
  },
  {
   "cell_type": "code",
   "execution_count": null,
   "id": "5f7d5298-54b0-4a29-9e1a-577c0ef055f0",
   "metadata": {
    "tags": []
   },
   "outputs": [],
   "source": [
    "fig, axes = plt.subplots(20, 1, sharex=True,\n",
    "                         figsize=(6.4, 0.8*30),\n",
    "                         layout='compressed')\n",
    "prob.plot_trajectories(solution, axes=axes)"
   ]
  },
  {
   "cell_type": "code",
   "execution_count": null,
   "id": "2631c79a-be26-405b-94fc-bac26ae79b9c",
   "metadata": {
    "tags": []
   },
   "outputs": [],
   "source": [
    "fig, axs = plt.subplots(14)\n",
    "for j in range(14):\n",
    "    axs[j].plot(time,quat_traj_guess[j*num_nodes:(j+1)*num_nodes])\n",
    "    axs[j].plot(time,solution[j*num_nodes:(j+1)*num_nodes])\n",
    "    fig.set_figheight(30)"
   ]
  },
  {
   "cell_type": "code",
   "execution_count": null,
   "id": "a7dde344-d842-4539-9357-a13bfc99d1cd",
   "metadata": {},
   "outputs": [],
   "source": []
  }
 ],
 "metadata": {
  "kernelspec": {
   "display_name": "Python 3 (ipykernel)",
   "language": "python",
   "name": "python3"
  },
  "language_info": {
   "codemirror_mode": {
    "name": "ipython",
    "version": 3
   },
   "file_extension": ".py",
   "mimetype": "text/x-python",
   "name": "python",
   "nbconvert_exporter": "python",
   "pygments_lexer": "ipython3",
   "version": "3.12.7"
  }
 },
 "nbformat": 4,
 "nbformat_minor": 5
}

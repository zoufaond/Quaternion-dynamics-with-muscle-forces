{
 "cells": [
  {
   "cell_type": "code",
   "execution_count": 1,
   "id": "f12b68ec-00a5-4446-96ef-de59bce8a0e6",
   "metadata": {
    "tags": []
   },
   "outputs": [],
   "source": [
    "### Equation of motion for 3D double pendulum ###\n",
    "\n",
    "import sympy.physics.mechanics as me\n",
    "import sympy as sp\n",
    "\n",
    "t = sp.symbols('t')\n",
    "q = me.dynamicsymbols('q0A, q1A, q2A, q3A, q0B, q1B, q2B, q3B')  # quaternion\n",
    "u = me.dynamicsymbols('u1A, u2A, u3A, u1B, u2B, u3B')  # angular velocities\n",
    "l, m, g, Ixx, Iyy, Izz = sp.symbols('l m g Ixx Iyy Izz')  # \n",
    "\n",
    "N = me.ReferenceFrame('frame_ground')\n",
    "N0 = me.Point('point_ground')\n",
    "N0.set_vel(N,0)\n",
    "\n",
    "A = me.ReferenceFrame('A')\n",
    "B = me.ReferenceFrame('B')\n",
    "mA = me.Point('mA')\n",
    "mB = me.Point('mB')\n",
    "ABj = me.Point('ABj')\n",
    "\n",
    "# rotate joint by quaternion and apply angular velocities\n",
    "# first joint is in the world frame center\n",
    "A.orient(N, 'Quaternion', [q[0], q[1], q[2], q[3]])\n",
    "A.set_ang_vel(N, u[0]*A.x + u[1]*A.y + u[2]*A.z)\n",
    "\n",
    "# set masscenter of the first body\n",
    "mA.set_pos(N0, -l/2 * A.z)\n",
    "mA.v2pt_theory(N0,N,A)\n",
    "FG1 = [(mA, -m * g * N.z)]\n",
    "\n",
    "# set the position of the joint between the two bodies\n",
    "ABj.set_pos(N0, -l * A.z)\n",
    "ABj.v2pt_theory(N0,N,A)\n",
    "\n",
    "# orient second body from the first body\n",
    "B.orient(A, 'Quaternion', [q[4], q[5], q[6], q[7]])\n",
    "B.set_ang_vel(A, u[3]*B.x + u[4]*B.y + u[5]*B.z)\n",
    "mB.set_pos(ABj, -l/2 * B.z)\n",
    "mB.v2pt_theory(ABj,N,B)\n",
    "I1 = me.inertia(A, Ixx, Iyy, Izz)\n",
    "I2 = me.inertia(B, Ixx, Iyy, Izz)\n",
    "\n",
    "BODY = []\n",
    "BODY.append(me.RigidBody('Abody', mA, A, m, (I1, mA)))\n",
    "BODY.append(me.RigidBody('Bbody', mB, B, m, (I2, mB)))\n",
    "\n",
    "FG2 = [(mB, -m * g * N.z)]\n",
    "kindeq = []\n",
    "\n",
    "# set kinematic differential equations - see Quaternions and Dynamics, page 9, equation 18\n",
    "for i in range(2):\n",
    "    kindeq.append(q[0+i*4].diff(t) - 0.5 * (-u[0+i*3]*q[1+i*4] - u[1+i*3]*q[2+i*4] - u[2+i*3]*q[3+i*4]))\n",
    "    kindeq.append(q[1+i*4].diff(t) - 0.5 * (u[0+i*3]*q[0+i*4] + u[2+i*3]*q[2+i*4] - u[1+i*3]*q[3+i*4]))\n",
    "    kindeq.append(q[2+i*4].diff(t) - 0.5 * (u[1+i*3]*q[0+i*4] - u[2+i*3]*q[1+i*4] + u[0+i*3]*q[3+i*4]))\n",
    "    kindeq.append(q[3+i*4].diff(t) - 0.5 * (u[2+i*3]*q[0+i*4] + u[1+i*3]*q[1+i*4] - u[0+i*3]*q[2+i*4]))\n",
    "F = FG1+FG2\n",
    "kindeq\n",
    "KM = me.KanesMethod(N, q_ind=q, u_ind=u, kd_eqs=kindeq)\n",
    "(fr, frstar) = KM.kanes_equations(BODY, (FG1+FG2))"
   ]
  },
  {
   "cell_type": "code",
   "execution_count": 2,
   "id": "80475efa-4a1f-44b5-ad3a-a9472d6659da",
   "metadata": {
    "tags": []
   },
   "outputs": [],
   "source": [
    "# substituting dynamicsymbols for symbolics so it can be printed into matlab\n",
    "qm = sp.symbols('qm0:8')\n",
    "um = sp.symbols('um1:7')\n",
    "subs_q = {q[i]: qm[i] for i in range(len(q))}\n",
    "subs_u = {u[i]: um[i] for i in range(len(u))}\n",
    "mm = me.msubs(KM.mass_matrix_full,subs_q,subs_u)\n",
    "fe = me.msubs(KM.forcing_full,subs_q,subs_u)\n",
    "# print(sp.octave_code(mm,assign_to = 'mm')) # these equations are basically just copied and inserted to matlab\n",
    "# print(sp.octave_code(fe,assign_to = 'fe')) # -//-"
   ]
  },
  {
   "cell_type": "code",
   "execution_count": 13,
   "id": "2db50470-d431-4fdc-ae82-dd8200f7e8fc",
   "metadata": {
    "tags": []
   },
   "outputs": [
    {
     "name": "stdout",
     "output_type": "stream",
     "text": [
      "q vector: Matrix([[q0A(t)], [q1A(t)], [q2A(t)], [q3A(t)], [q0B(t)], [q1B(t)], [q2B(t)], [q3B(t)]])\n",
      "u vector: Matrix([[u1A(t)], [u2A(t)], [u3A(t)], [u1B(t)], [u2B(t)], [u3B(t)]])\n"
     ]
    }
   ],
   "source": [
    "# Notes\n",
    "# this is how the vector of coordinates looks like\n",
    "print('q vector:',KM.q)\n",
    "# this is how the vector of speeds looks like\n",
    "print('u vector:',KM.u)\n",
    "# ODE is in the form: M*x_dot = fe, where x_dot = [q,u]_dot"
   ]
  },
  {
   "cell_type": "code",
   "execution_count": 62,
   "id": "93cf1ebd-7429-4589-a826-a35cdb16ea59",
   "metadata": {},
   "outputs": [],
   "source": [
    "### BY JASON MOORE ###\n",
    "# just different way how create equations of motion,\n",
    "# here one more speed is introduced, but this approach has a singularity when q0=0\n",
    "\n",
    "import sympy.physics.mechanics as me\n",
    "import sympy as sp\n",
    "\n",
    "t = sp.symbols('t')\n",
    "q0A, q1A, q2A, q3A, q0B, q1B, q2B, q3B = me.dynamicsymbols('q0A, q1A, q2A, q3A, q0B, q1B, q2B, q3B')  # quaternion\n",
    "w1A, w2A, w3A, w1B, w2B, w3B = me.dynamicsymbols('w1A, w2A, w3A, w1B, w2B, w3B')  # angular velocities\n",
    "u0A, u0B = me.dynamicsymbols('u0A u0B')\n",
    "l, m, g, Ixx, Iyy, Izz = sp.symbols('l m g Ixx Iyy Izz')  # \n",
    "\n",
    "N = me.ReferenceFrame('frame_ground')\n",
    "N0 = me.Point('point_ground')\n",
    "N0.set_vel(N,0)\n",
    "\n",
    "A = me.ReferenceFrame('A')\n",
    "B = me.ReferenceFrame('B')\n",
    "mA = me.Point('mA')\n",
    "mB = me.Point('mB')\n",
    "ABj = me.Point('ABj')\n",
    "\n",
    "\n",
    "A.orient(N, 'Quaternion', [q0A, q1A, q2A, q3A])\n",
    "\n",
    "N_w_A = A.ang_vel_in(N)\n",
    " \n",
    "kinematical1 = sp.Matrix([\n",
    "    u0A - q0A.diff(t),\n",
    "    w1A - N_w_A.dot(A.x),\n",
    "    w2A - N_w_A.dot(A.y),\n",
    "    w3A - N_w_A.dot(A.z),\n",
    "])\n",
    "\n",
    "B.orient(A, 'Quaternion', [q0B, q1B, q2B, q3B])\n",
    "\n",
    "A_w_B = B.ang_vel_in(A)\n",
    "\n",
    "kinematical2 = (sp.Matrix([\n",
    "    u0B - q0B.diff(t),\n",
    "    w1B - A_w_B.dot(B.x),\n",
    "    w2B - A_w_B.dot(B.y),\n",
    "    w3B - A_w_B.dot(B.z),\n",
    "]))\n",
    "\n",
    "A.set_ang_vel(N, w1A*A.x + w2A*A.y + w3A*A.z)\n",
    "B.set_ang_vel(A, w1B*B.x + w2B*B.y + w3B*B.z)\n",
    "\n",
    "mA.set_pos(N0, -l/2 * A.z)\n",
    "mA.v2pt_theory(N0,N,A)\n",
    "FG1 = [(mA, -m * g * N.z)]\n",
    "\n",
    "ABj.set_pos(N0, -l * A.z)\n",
    "ABj.v2pt_theory(N0,N,A)\n",
    "\n",
    "\n",
    "mB.set_pos(ABj, -l/2 * B.z)\n",
    "mB.v2pt_theory(ABj,N,B)\n",
    "\n",
    "\n",
    "I1 = me.inertia(A, Ixx, Iyy, Izz)\n",
    "I2 = me.inertia(B, Ixx, Iyy, Izz)\n",
    "\n",
    "BODY = []\n",
    "BODY.append(me.RigidBody('Abody', mA, A, m, (I1, mA)))\n",
    "BODY.append(me.RigidBody('Bbody', mB, B, m, (I2, mB)))\n",
    "\n",
    "kinematical = sp.Matrix([[kinematical1],[kinematical2]])\n",
    "\n",
    "FG2 = [(mB, -m * g * N.z)]\n",
    "\n",
    "F = FG1+FG2\n",
    "holonomic = sp.Matrix([[q0A**2 + q1A**2 + q2A**2 + q3A**2 - 1],\n",
    "                       [q0B**2 + q1B**2 + q2B**2 + q3B**2 - 1]])\n",
    "kane = me.KanesMethod(\n",
    "    N,\n",
    "    [q1A, q2A, q3A, q1B, q2B, q3B],\n",
    "    [w1A, w2A, w3A, w1B, w2B, w3B],\n",
    "    kd_eqs=kinematical,\n",
    "    q_dependent=[q0A,q0B],\n",
    "    u_dependent=[u0A,u0B],\n",
    "    configuration_constraints=holonomic,\n",
    "    velocity_constraints=holonomic.diff(t),\n",
    ")\n",
    "(fr, frstar) = kane.kanes_equations(BODY, (FG1+FG2))"
   ]
  },
  {
   "cell_type": "code",
   "execution_count": 76,
   "id": "63fc8a9f-2efe-4cb6-802b-53da0b39967c",
   "metadata": {
    "tags": []
   },
   "outputs": [
    {
     "data": {
      "text/plain": [
       "(16, 16)"
      ]
     },
     "execution_count": 76,
     "metadata": {},
     "output_type": "execute_result"
    }
   ],
   "source": [
    "sp.shape(kane.mass_matrix_full)"
   ]
  },
  {
   "cell_type": "code",
   "execution_count": 74,
   "id": "ee5ac271-4339-458b-82e8-1aad9cf237ac",
   "metadata": {
    "tags": []
   },
   "outputs": [],
   "source": [
    "qm = sp.symbols('q1U q2U q3U q1L q2L q3L q0U q0L')\n",
    "um = sp.symbols('w1U w2U w3U w1L w2L w3L u0U u0L')\n",
    "kane_q = list(kane.q)\n",
    "kane_u = list(kane.u)\n",
    "subs_q = {kane_q[i]: qm[i] for i in range(len(qm))}\n",
    "subs_u = {kane_u[i]: um[i] for i in range(len(um))}\n",
    "mm = me.msubs(kane.mass_matrix_full,subs_q,subs_u)\n",
    "fe = me.msubs(kane.forcing_full,subs_q,subs_u)\n",
    "# print(sp.octave_code(mm,assign_to = 'mm'))\n",
    "# print(sp.octave_code(fe,assign_to = 'fe'))"
   ]
  },
  {
   "cell_type": "code",
   "execution_count": 23,
   "id": "2922a6bf-7288-4dee-b8e6-221d96408e98",
   "metadata": {
    "tags": []
   },
   "outputs": [
    {
     "data": {
      "text/latex": [
       "$\\displaystyle \\left[\\begin{matrix}\\frac{a}{2 a^{2} + 2 b^{2} + 2 c^{2} + 2 d^{2}} & - \\frac{d}{2 a^{2} + 2 b^{2} + 2 c^{2} + 2 d^{2}} & \\frac{c}{2 a^{2} + 2 b^{2} + 2 c^{2} + 2 d^{2}}\\\\\\frac{d}{2 a^{2} + 2 b^{2} + 2 c^{2} + 2 d^{2}} & \\frac{a}{2 a^{2} + 2 b^{2} + 2 c^{2} + 2 d^{2}} & - \\frac{b}{2 a^{2} + 2 b^{2} + 2 c^{2} + 2 d^{2}}\\\\- \\frac{c}{2 a^{2} + 2 b^{2} + 2 c^{2} + 2 d^{2}} & \\frac{b}{2 a^{2} + 2 b^{2} + 2 c^{2} + 2 d^{2}} & \\frac{a}{2 a^{2} + 2 b^{2} + 2 c^{2} + 2 d^{2}}\\end{matrix}\\right]$"
      ],
      "text/plain": [
       "Matrix([\n",
       "[ a/(2*a**2 + 2*b**2 + 2*c**2 + 2*d**2), -d/(2*a**2 + 2*b**2 + 2*c**2 + 2*d**2),  c/(2*a**2 + 2*b**2 + 2*c**2 + 2*d**2)],\n",
       "[ d/(2*a**2 + 2*b**2 + 2*c**2 + 2*d**2),  a/(2*a**2 + 2*b**2 + 2*c**2 + 2*d**2), -b/(2*a**2 + 2*b**2 + 2*c**2 + 2*d**2)],\n",
       "[-c/(2*a**2 + 2*b**2 + 2*c**2 + 2*d**2),  b/(2*a**2 + 2*b**2 + 2*c**2 + 2*d**2),  a/(2*a**2 + 2*b**2 + 2*c**2 + 2*d**2)]])"
      ]
     },
     "execution_count": 23,
     "metadata": {},
     "output_type": "execute_result"
    }
   ],
   "source": [
    "import sympy as sp\n",
    "a,b,c,d = sp.symbols('a b c d')\n",
    "\n",
    "G = sp.Matrix([[-b, a, d, -c],\n",
    "                [-c,-d, a, b],\n",
    "                [-d, c, -b, a]])\n",
    "T = sp.Matrix([[-b/a, -c/a, -d/a],[sp.eye(3)]])\n",
    "(2*G*T).inv()"
   ]
  }
 ],
 "metadata": {
  "kernelspec": {
   "display_name": "Python 3 (ipykernel)",
   "language": "python",
   "name": "python3"
  },
  "language_info": {
   "codemirror_mode": {
    "name": "ipython",
    "version": 3
   },
   "file_extension": ".py",
   "mimetype": "text/x-python",
   "name": "python",
   "nbconvert_exporter": "python",
   "pygments_lexer": "ipython3",
   "version": "3.11.5"
  }
 },
 "nbformat": 4,
 "nbformat_minor": 5
}

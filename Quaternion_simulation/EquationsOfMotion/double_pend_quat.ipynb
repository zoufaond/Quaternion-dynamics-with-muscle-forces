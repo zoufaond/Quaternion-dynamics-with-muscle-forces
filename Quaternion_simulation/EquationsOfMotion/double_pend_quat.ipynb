{
 "cells": [
  {
   "cell_type": "code",
   "execution_count": 1,
   "id": "f12b68ec-00a5-4446-96ef-de59bce8a0e6",
   "metadata": {
    "tags": []
   },
   "outputs": [],
   "source": [
    "### Generate equations of motion for 3D double pendulum ###\n",
    "import sys\n",
    "sys.path.insert(0, \"..\")\n",
    "import sympy.physics.mechanics as me\n",
    "import sympy as sp\n",
    "import gen_matlab_class as gm\n",
    "\n",
    "t = sp.symbols('t')\n",
    "q = me.dynamicsymbols('q0A, q1A, q2A, q3A, q0B, q1B, q2B, q3B')  # quaternions\n",
    "u = me.dynamicsymbols('u1A, u2A, u3A, u1B, u2B, u3B')  # angular velocities\n",
    "l, m, g, Ixx, Iyy, Izz, c = sp.symbols('l m g Ixx Iyy Izz c')  # constants\n",
    "\n",
    "# set ground frame\n",
    "N = me.ReferenceFrame('frame_ground')\n",
    "N0 = me.Point('point_ground')\n",
    "N0.set_vel(N,0)\n",
    "\n",
    "# create bodies reference frames\n",
    "A = me.ReferenceFrame('A')\n",
    "B = me.ReferenceFrame('B')\n",
    "mA = me.Point('mA') #center of mass of body A\n",
    "mB = me.Point('mB') #center of mass of body B\n",
    "ABj = me.Point('ABj') #joint position\n",
    "\n",
    "# rotate joint by quaternion and apply angular velocities\n",
    "# first joint is in the world frame center\n",
    "A.orient(N, 'Quaternion', [q[0], q[1], q[2], q[3]])\n",
    "A.set_ang_vel(N, u[0]*A.x + u[1]*A.y + u[2]*A.z)\n",
    "\n",
    "# set masscenter of the first body\n",
    "mA.set_pos(N0, -l/2 * A.z)\n",
    "mA.v2pt_theory(N0,N,A)\n",
    "\n",
    "# set the position of the joint between the two bodies\n",
    "ABj.set_pos(N0, -l * A.z)\n",
    "ABj.v2pt_theory(N0,N,A)\n",
    "\n",
    "# orient second body from the first body\n",
    "B.orient(A, 'Quaternion', [q[4], q[5], q[6], q[7]])\n",
    "B.set_ang_vel(A, u[3]*B.x + u[4]*B.y + u[5]*B.z)\n",
    "#set the masscenter of the second body\n",
    "mB.set_pos(ABj, -l/2 * B.z)\n",
    "mB.v2pt_theory(ABj,N,B)\n",
    "\n",
    "\n",
    "I1 = me.inertia(A, Ixx, Iyy, Izz)\n",
    "I2 = me.inertia(B, Ixx, Iyy, Izz)\n",
    "\n",
    "BODY = []\n",
    "BODY.append(me.RigidBody('Abody', mA, A, m, (I1, mA)))\n",
    "BODY.append(me.RigidBody('Bbody', mB, B, m, (I2, mB)))\n",
    "\n",
    "#define gravity force\n",
    "FG1 = [(mA, -m * g * N.z)]\n",
    "FG2 = [(mB, -m * g * N.z)]\n",
    "\n",
    "#define damping in joints\n",
    "DAMP = []\n",
    "DAMP.append((A,-c*(u[0]*A.x + u[1]*A.y + u[2]*A.z)))\n",
    "DAMP.append((B,-c*(u[3]*B.x + u[4]*B.y + u[5]*B.z)))\n",
    "DAMP.append((A, c*(u[3]*B.x + u[4]*B.y + u[5]*B.z)))\n",
    "\n",
    "# set kinematic differential equations - see Quaternions and Dynamics, page 9, equation 18\n",
    "kindeq = []\n",
    "for i in range(2):\n",
    "    kindeq.append(q[0+i*4].diff(t) - 0.5 * (-u[0+i*3]*q[1+i*4] - u[1+i*3]*q[2+i*4] - u[2+i*3]*q[3+i*4]))\n",
    "    kindeq.append(q[1+i*4].diff(t) - 0.5 * ( u[0+i*3]*q[0+i*4] + u[2+i*3]*q[2+i*4] - u[1+i*3]*q[3+i*4]))\n",
    "    kindeq.append(q[2+i*4].diff(t) - 0.5 * ( u[1+i*3]*q[0+i*4] - u[2+i*3]*q[1+i*4] + u[0+i*3]*q[3+i*4]))\n",
    "    kindeq.append(q[3+i*4].diff(t) - 0.5 * ( u[2+i*3]*q[0+i*4] + u[1+i*3]*q[1+i*4] - u[0+i*3]*q[2+i*4]))\n",
    "F = FG1+FG2\n",
    "kindeq\n",
    "KM = me.KanesMethod(N, q_ind=q, u_ind=u, kd_eqs=kindeq)\n",
    "(fr, frstar) = KM.kanes_equations(BODY, (FG1+FG2+DAMP))"
   ]
  },
  {
   "cell_type": "code",
   "execution_count": 2,
   "id": "80475efa-4a1f-44b5-ad3a-a9472d6659da",
   "metadata": {
    "tags": []
   },
   "outputs": [],
   "source": [
    "# substituting dynamicsymbols for symbolics so it can be printed into matlab\n",
    "qm = sp.symbols('qm0:8')\n",
    "um = sp.symbols('um1:7')\n",
    "subs_q = {q[i]: qm[i] for i in range(len(q))}\n",
    "subs_u = {u[i]: um[i] for i in range(len(u))}\n",
    "mm = me.msubs(KM.mass_matrix_full,subs_q,subs_u)\n",
    "fo = me.msubs(KM.forcing_full,subs_q,subs_u)\n",
    "\n",
    "from importlib import reload\n",
    "reload(gm)\n",
    "#create a dictionary of constatns\n",
    "parameters_dict = {l:'l',m:'m',g:'g',Ixx:'Ixx',Iyy:'Iyy',Izz:'Izz',c:'c'}\n",
    "#generate matlab functions using function from gen_matlab_class.py\n",
    "gm.MatlabFunction(function = fo,fun_name = 'fo_python',assignto = 'fo_python',coordinates = qm,speeds = um,inputs = {},parameters = parameters_dict)\n",
    "gm.MatlabFunction(function = mm,fun_name = 'mm_python',assignto = 'mm_python',coordinates = qm,speeds = um,inputs = {},parameters = parameters_dict)"
   ]
  },
  {
   "cell_type": "code",
   "execution_count": 3,
   "id": "2db50470-d431-4fdc-ae82-dd8200f7e8fc",
   "metadata": {
    "tags": []
   },
   "outputs": [
    {
     "name": "stdout",
     "output_type": "stream",
     "text": [
      "q vector: Matrix([[q0A(t)], [q1A(t)], [q2A(t)], [q3A(t)], [q0B(t)], [q1B(t)], [q2B(t)], [q3B(t)]])\n",
      "u vector: Matrix([[u1A(t)], [u2A(t)], [u3A(t)], [u1B(t)], [u2B(t)], [u3B(t)]])\n"
     ]
    }
   ],
   "source": [
    "# Notes\n",
    "# vector of coordinates\n",
    "print('q vector:',KM.q)\n",
    "# vector of angular velocities\n",
    "print('u vector:',KM.u)\n",
    "# ODE is in the form: M*x_dot = fe, where x_dot = [q,u]_dot"
   ]
  }
 ],
 "metadata": {
  "kernelspec": {
   "display_name": "Python 3 (ipykernel)",
   "language": "python",
   "name": "python3"
  },
  "language_info": {
   "codemirror_mode": {
    "name": "ipython",
    "version": 3
   },
   "file_extension": ".py",
   "mimetype": "text/x-python",
   "name": "python",
   "nbconvert_exporter": "python",
   "pygments_lexer": "ipython3",
   "version": "3.11.5"
  }
 },
 "nbformat": 4,
 "nbformat_minor": 5
}
